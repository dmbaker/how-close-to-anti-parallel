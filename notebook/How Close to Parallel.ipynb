{
 "cells": [
  {
   "cell_type": "code",
   "execution_count": 16,
   "metadata": {
    "format": "row"
   },
   "outputs": [
    {
     "data": {
      "text/html": [
       "<script>\n",
       "code_show=true; \n",
       "function code_toggle() {\n",
       "  if (code_show) {\n",
       "    $('div.input').each(function(id) {\n",
       "      el = $(this).find('.cm-variable:first');\n",
       "      if (id == 0 || el.text() == 'hide_me') {\n",
       "        $(this).hide();\n",
       "      }\n",
       "    });\n",
       "    $('div.output_prompt').css('opacity', 0);\n",
       "  } else {\n",
       "    $('div.input').each(function(id) {\n",
       "      $(this).show();\n",
       "    });\n",
       "    $('div.output_prompt').css('opacity', 1);\n",
       "  }\n",
       "  code_show = !code_show\n",
       "} \n",
       "$( document ).ready(code_toggle);\n",
       "</script>\n",
       "<form action=\"javascript:code_toggle()\"><input style=\"opacity:0\" type=\"submit\" value=\"Click here to toggle on/off the raw code.\"></form>"
      ],
      "text/plain": [
       "<IPython.core.display.HTML object>"
      ]
     },
     "execution_count": 16,
     "metadata": {},
     "output_type": "execute_result"
    }
   ],
   "source": [
    "%matplotlib inline\n",
    "import math\n",
    "import numpy as np\n",
    "import matplotlib.pyplot as plt\n",
    "\n",
    "# This is a cell to hide code snippets from displaying\n",
    "# This must be at first cell!\n",
    "\n",
    "from IPython.display import HTML\n",
    "\n",
    "P = 53 # the bits precision for doubles, Pythons native floating-point number type\n",
    "meps = 2.0**(1-P) # the machine precision\n",
    "eps = meps/2.0 # the unit round-off\n",
    "\n",
    "def Figure1():\n",
    "    plt.figure(figsize=(7,0.5))    \n",
    "    ax = plt.gca()\n",
    "    ax.set_xticks([0,1,3,7,15], minor=False)\n",
    "    ax.set_xticks([0.25,0.5,0.75,1.5,2.0,2.0,2.5,4.0,5.0,6.0,9.0,11.0,13.0], minor=True)\n",
    "    labels = ['a','b','c','d','e']\n",
    "    ax.set_xticklabels(labels, minor=False)\n",
    "    ax.xaxis.grid(True, which='major', linestyle='-')\n",
    "    plt.tick_params(\n",
    "        axis='x',          # changes apply to the x-axis\n",
    "        which='both',      # both major and minor ticks are affected\n",
    "        bottom='on',      # ticks along the bottom edge are on\n",
    "        top='off',         # ticks along the top edge are off\n",
    "        direction='inout', # ticks above and below the line\n",
    "        length=15,\n",
    "        pad=7,\n",
    "        labelsize='large',\n",
    "        labelbottom='on') # labels along the bottom edge are off\n",
    "    plt.tick_params(\n",
    "        axis='y',          # changes apply to the x-axis\n",
    "        which='both',      # both major and minor ticks are affected\n",
    "        left='off',      # ticks along the bottom edge are off\n",
    "        right='off',         # ticks along the top edge are off\n",
    "        labelleft='off') # labels along the bottom edge are off\n",
    "    plt.show()\n",
    "\n",
    "def Figure2():\n",
    "    font = {'family': 'serif',\n",
    "            'color':  'black',\n",
    "            'weight': 'normal',\n",
    "            'size': 18,\n",
    "            }\n",
    "    np.seterr(divide='ignore')\n",
    "    x = np.linspace(0, np.pi, num=500, endpoint=True)\n",
    "    y = eps + (2.0/np.sqrt(3.0)) * eps * abs(1.0/np.sin(x))\n",
    "    plt.ylim(ymin = 2.0e-15, ymax = 2.0e-16)\n",
    "    plt.xlim(xmin = 0, xmax = np.pi)\n",
    "    plt.title('Cross Product Quality')\n",
    "    plt.text(0.55, 1.1e-15,\n",
    "         r'$y=\\varepsilon + \\left(\\frac{2}{\\sqrt{3}}\\right) \\cdot \\varepsilon \\cdot \\left|{\\frac{1}{\\sin(\\angle(\\mathbf{u}, \\mathbf{v}))}}\\right|$',\n",
    "         fontdict=font)\n",
    "    plt.plot(x, y, 'g')\n",
    "    plt.xlabel(r'$\\angle({\\mathbf{u}, \\mathbf{v}})$', fontdict=font)\n",
    "    plt.ylabel(r'$|\\sin(\\angle(\\mathbf{w},\\mathbf{u}\\times \\mathbf{v}) )|$', fontdict=font)\n",
    "    plt.grid(True)\n",
    "    plt.show()\n",
    "\n",
    "hide_me = ''\n",
    "HTML('''<script>\n",
    "code_show=true; \n",
    "function code_toggle() {\n",
    "  if (code_show) {\n",
    "    $('div.input').each(function(id) {\n",
    "      el = $(this).find('.cm-variable:first');\n",
    "      if (id == 0 || el.text() == 'hide_me') {\n",
    "        $(this).hide();\n",
    "      }\n",
    "    });\n",
    "    $('div.output_prompt').css('opacity', 0);\n",
    "  } else {\n",
    "    $('div.input').each(function(id) {\n",
    "      $(this).show();\n",
    "    });\n",
    "    $('div.output_prompt').css('opacity', 1);\n",
    "  }\n",
    "  code_show = !code_show\n",
    "} \n",
    "$( document ).ready(code_toggle);\n",
    "</script>\n",
    "<form action=\"javascript:code_toggle()\"><input style=\"opacity:0\" type=\"submit\" value=\"Click here to toggle on/off the raw code.\"></form>''')"
   ]
  },
  {
   "cell_type": "raw",
   "metadata": {},
   "source": [
    "<!--bibtex\n",
    "\n",
    "@ONLINE {Adjerid:2013:1,\n",
    "    author  = \"Adjerid, Slimane\",\n",
    "    title   = \"Notes for Numerical Analysis Math 5465\",\n",
    "    howpublished = \"World-Wide Web document\",\n",
    "    year    = \"2013\",\n",
    "    note    = \"Department of Mathematics Virginia Tech\",\n",
    "    url     = \"http://www.math.vt.edu/people/adjerids/homepage/teaching/F13/Math5465/chapter1.pdf\",\n",
    "    note    = \"[Online; accessed 10-January-2016]\"\n",
    " } \n",
    "\n",
    "@ONLINE {Barendrecht:2012:1,\n",
    "    author = \"Barendrecht, P.J.\",\n",
    "    title  = \"A gentle introduction to rational Bezier curves and NURBS\",\n",
    "    howpublished = \"World-Wide Web document\",\n",
    "    month  = \"jun\",\n",
    "    year   = \"2012\",\n",
    "    url    = \"http://www.redpanda.nl/TUe/GentleIntroToNURBS.pdf\",\n",
    "    note   = \"[Online; accessed 31-December-2015]\"\n",
    " }\n",
    " \n",
    "@BOOK {Coxeter:1989:1,\n",
    "    author  = \"Coxeter, H. S. M.\",\n",
    "    title   = \"Introduction to geometry\",\n",
    "    publisher = \"Wiley\",\n",
    "    year    = \"1989\",\n",
    "    address = \"New York\",\n",
    "    isbn    = \"0471504580\"\n",
    " }\n",
    " \n",
    "@ONLINE {Greaves:2011:1,\n",
    "    author  = \"Greaves, D. J.\",\n",
    "    title   = \"Floating Point Computation\",\n",
    "    howpublished = \"World-Wide Web document\",\n",
    "    month   = \"nov\",\n",
    "    year    = \"2011\",\n",
    "    url     = \"https://www.cl.cam.ac.uk/teaching/1011/FPComp/fpcomp10slides.pdf\",\n",
    "    note    = \"[Online; accessed 3-January-2016]\"\n",
    " } \n",
    "\n",
    "@BOOK {Higham:2002:ASN:579525,\n",
    "    author = \"Higham, Nicholas J.\",\n",
    "    title = \"Accuracy and Stability of Numerical Algorithms\",\n",
    "    year = \"2002\",\n",
    "    isbn = \"0898715210\",\n",
    "    edition = \"2nd\",\n",
    "    publisher = \"Society for Industrial and Applied Mathematics\",\n",
    "    address = \"Philadelphia, PA, USA\"\n",
    "}\n",
    "\n",
    "@ONLINE {Higham:2013:1,\n",
    "    author  = \"Higham, Nick\",\n",
    "    title   = \"Accuracy and Stability of Numerical Algorithms\",\n",
    "    howpublished = \"World-Wide Web document\",\n",
    "    day     = \"21\",\n",
    "    month   = \"jan\",\n",
    "    year    = \"2013\",\n",
    "    url     = \"http://www.maths.manchester.ac.uk/~higham/talks/asna13_cardiff.pdf\",\n",
    "    note    = \"[Online; accessed 31-December-2015]\"\n",
    " } \n",
    "\n",
    "@ONLINE {Kahan:2008:1,\n",
    "    author  = \"Kahan, William\",\n",
    "    title   = \"Cross-Products and Rotations in 2- and 3-Dimensional Euclidean Spaces\",\n",
    "    howpublished = \"World-Wide Web document\",\n",
    "    pages   = \"26\",\n",
    "    day     = \"2\",\n",
    "    month   = \"mar\",\n",
    "    year    = \"2008\",\n",
    "    note    =  \"Lecture notes for Math H110.\",\n",
    "    URL     = \"https://www.cs.berkeley.edu/~wkahan/MathH110/Cross.pdf\",\n",
    "    note    = \"[Online; accessed 31-December-2015]\"\n",
    " }\n",
    " \n",
    "@MISC {Kahan:2014:2,\n",
    "    author  = \"Kahan, Willam\",\n",
    "    title   = \"Personal Communication\",\n",
    "    howpublished = \"personal communication\",\n",
    "    day     = \"28\",\n",
    "    month   = \"apr\",\n",
    "    year    = \"2014\"\n",
    " }\n",
    "\n",
    "@ONLINE {Regan:2015:1,\n",
    "    author  = \"Regan, Rick\",\n",
    "    title   = \"The Spacing of Binary Floating-Point Numbers\",\n",
    "    howpublished = \"World-Wide Web document\",\n",
    "    series  = \"Exploring Binary\",\n",
    "    day     = \"15\",\n",
    "    month   = \"mar\",\n",
    "    year    = \"2015\",\n",
    "    url     = \"http://www.exploringbinary.com/the-spacing-of-binary-floating-point-numbers/\",\n",
    "    note    = \"[Online; accessed 31-December-2015]\"\n",
    " }\n",
    " \n",
    "@MISC {Rump:2015:1,\n",
    "    author  = \"Rump, Siegfried M.\",\n",
    "    title   = \"Personal Correspondence\",\n",
    "    howpublished = \"personal correspondence\",\n",
    "    month   = \"jan\",\n",
    "    year    = \"2015\"\n",
    " }\n",
    "\n",
    "@ARTICLE {Sawaryn-Thorogood:2005:1,\n",
    "    author  = \"Sawaryn, Steven J. (BP Exploration) and Thorogood, John L. (BP Exploration & Production)\",\n",
    "    title   = \"A Compendium of Directional Calculations Based on the Minimum Curvature Method\",\n",
    "    journal = \"Society of Petroleum Engineers; SPE Drilling & Completion\",\n",
    "    year    = \"2005\",\n",
    "    volume  = \"20\",\n",
    "    number  = \"01\",\n",
    "    month   = \"mar\"\n",
    " }\n",
    "\n",
    "@ONLINE {Sun:2001:1,\n",
    "    author  = \"Sun Microsystems,\",\n",
    "    title   = \"Numerical Computation Guide\",\n",
    "    howpublished = \"World-Wide Web document\",\n",
    "    month   = \"jul\",\n",
    "    year    = \"2001\",\n",
    "    url     = \"https://docs.oracle.com/cd/E19059-01/fortec6u2/806-7996/806-7996.pdf\",\n",
    "    note    = \"[Online; accessed 1-January-2016]\"\n",
    " }\n",
    " \n",
    "@MISC {wiki:IEEE_floating_point:1,\n",
    "   author   = \"Wikipedia, 1\",\n",
    "   title    = \"IEEE floating point --- Wikipedia{,} The Free Encyclopedia\",\n",
    "   howpublished = \"World-Wide Web document\",\n",
    "   year     = \"2015a\",\n",
    "   url      = \"https://en.wikipedia.org/w/index.php?title=IEEE_floating_point&oldid=696581271\",\n",
    "   note     = \"[Online; accessed 31-December-2015]\"\n",
    " }\n",
    " \n",
    "@MISC {wiki:IEEE_floating_point:2,\n",
    "   author   = \"Wikipedia, 2\",\n",
    "   title    = \"Floating Point --- Wikipedia{,} The Free Encyclopedia\",\n",
    "   howpublished = \"World-Wide Web document\",\n",
    "   year     = \"2015b\",\n",
    "   url      = \"https://en.wikipedia.org/wiki/Floating_point\",\n",
    "   note     = \"[Online; accessed 31-December-2015]\"\n",
    " }\n",
    "\n",
    "@ARTICLE {Zaremba:1973:1,\n",
    "    author  = \"W.A. Zaremba (Standard Oil Co. Of California)\",\n",
    "    title   = \"Directional Survey by the Circular Arc Method\",\n",
    "    journal = \"Society of Petroleum Engineers; Society of Petroleum Engineers Journal\",\n",
    "    year    = \"1973\",\n",
    "    volume  = \"13\",\n",
    "    number  = \"01\",\n",
    "    month   = \"feb\"\n",
    " }\n",
    " \n",
    "-->"
   ]
  },
  {
   "cell_type": "markdown",
   "metadata": {},
   "source": [
    "## How Close to Anti-Parallel"
    "### David M. Baker, PG"
    "### April 2018"
   ]
  },
  {
   "cell_type": "markdown",
   "metadata": {},
   "source": [
    "### IEEE 754 Binary Floating-Point Arithmetic\n",
    "\n",
    "Not all real numbers, those infinitely divisible on the number line, can be stored in a binary computers memory because there are only a finite number of bit combinations that can be made in a given memory space. The limit to the combinations limits the number of real numbers that can represented; there are only a finite number of floating point numbers defined by the IEEE 754 standard <a name=\"ref-1\"/>[(Wikipedia, 2015a)](#cite-wiki:IEEE_floating_point:1).\n",
    "\n",
    "If a real value, possibly from the result of an arithmetic floating-point operation cannot be represented as a floating-point number, that is, not one of the discrete values, its value will be estimated as the the closest floating-point number. In the default mode, round-to-nearest with round-to-even tiebreaker, the number will be rounded to the nearest floating-point number <a name=\"ref-2\"/>[(SunMicrosystems, 2001)](#cite-Sun:2001:1).\n",
    "\n",
    "The floating-point number line is exponentially expanding across exponent boundaries <a name=\"ref-3\"/>[(Regan, 2015)](#cite-Regan:2015:1). This means that the difference between two adjacent floating-point numbers increases the farther from zero the pair lie, and because of the increasing difference away from zero, the rounding error also increases away from zero <a name=\"ref-4\"/>[(Higham, 2002)](#cite-Higham:2002:ASN:579525), [Figure 1](#fig-1)."
   ]
  },
  {
   "cell_type": "code",
   "execution_count": 2,
   "metadata": {},
   "outputs": [
    {
     "data": {
      "image/png": "iVBORw0KGgoAAAANSUhEUgAAAaQAAABICAYAAAC5vYF4AAAABHNCSVQICAgIfAhkiAAAAAlwSFlz\nAAALEgAACxIB0t1+/AAABSdJREFUeJzt3U+IVWUYx/HfLzWMCRJRpDE1aAoio1ooQQSCgZtaZIuK\nIGodSARRUC6KgjZBC1cWFBSROEngrFoJFYKNkYt0EWrTlBGajchA+KenxR10grl35r537nueuX4/\ncOFyDu/7PO+ce89v5jD3XEeEAABo2k1NNwAAgEQgAQCSIJAAACkQSACAFAgkAEAKBBIAIAUCCQCQ\nAoEEAEiBQAIApLC8l8GrVq2KkZGRxeqlrenpaQ0NDfW9Ti2Dtp5Bw/EByh09evRcRKwtGdtTIK1b\nt07j4+O9TLEghw4d0rZt2/pep5ZBW8+g4fgA5WxPlI7lkh0AIAUCCQCQAoEEAEiBQAIApEAgAQBS\nIJAAACkQSACAFAgkAEAKBBIAIAUCCQCQAoEEAEiBQAIApEAgAQBSIJAAACkQSACAFAgkAEAKBBIA\nIAUCCQCQQk+BdOHChTm3Hzx4sO2YdvtKxnRSMmb37t1V6pSMKUGd3HVqYT25Ddp6JK0pHdhTIE1N\nTc25fbEDaWxsrLvG5pmvndHR0Sp1StZTYtBO4LXq1Do+tQzaCY/1pLe2dCCX7AAAKRBIAIAUCCQA\nQAoEEgAgBQIJAJCCI6J8sH1Z0rE5dm2SNNFmWLt9ncbcK+lEl+11mq+d+yT9VKFOyXpKlPRGnXrH\np5ZaP7daWE9uD0TEiqKREVH8kDTeZvveDmPm3DfPmDnrzNNb2/k6jDlRqU7X6yk8Pl33Rp16x6fW\no9bPjfWwnpn1FL9/uGQHAEiBQAIApEAgAQBSIJAAACkQSACAFAgkAEAKvQbS3jbbO92+tt2+TmPa\n1emk5Ba6+yvVKVlPiVq3ER60OrWOTy2Ddjtp1pNb8funpw/GAgCwWLhkBwBIgUACAKRAIAEAUiCQ\nAAApEEgAgBTSBpLtX2w/1nQfuHHZ/sT2O033Adwo0gYSAODGQiABAFIoCiTbr9s+afui7eO2n1zs\nxmZsmZn/b9sf217ZpzpV2N5g+4Dts7b/sr2n6Z5wne2HbP8w87reJ2lJv96AmmwP2/5y5vx22vau\nbuco/QvppKRHJd0m6S1Jn9m+vXCuTp6TtEPSXZLukfRmH2pUYXuZpDG1vqr4TknrJX3RZE+4zvbN\nkr6S9Kmk1WrdRuqpRpsClgjbN6l1C6Rjap3btkt62faObuYpCqSI2B8RZyLi34jYJ+lnSVtL5prH\nnoiYjIjzkt6V9GwfatSyVdKwpFcjYjoi/omIb5tuCtc8LGmFpA8i4nJEjEr6vuGegKVii6S1EfF2\nRFyKiFOSPpT0TDeTLC+pbPt5Sa+o9Zu+JN0qaU3JXPOYnPV8Qq0T+lK1QdJERFxpuhHMaVjS7/H/\nmztONNUMsMRskjRse2rWtmWSvulmkq4DyfYmtZJvu6TDEXHV9o+S3O1cC7Bh1vONks70oUYtk5I2\n2l5OKKX0h6T1tj0rlDaqdXkaQGeTkk5HxN29TFJyyW5IUkg6K0m2X5S0uZcmOnjJ9h22V0t6Q9K+\nPtWp4YhaJ733bA/ZXmn7kaabwjWHJV2RtMv2Cts71Z/L0MAgOiLpou3XbN9ie5ntzba3dDNJ14EU\nEcclva/WG/hPSfdL+q7beRboc0lfSzql1m+qS/ZDihFxVdITkkYk/SrpN0lPN9oUromIS5J2SnpB\n0nm1js2BJnsCloqZ89vjkh6UdFrSOUkfqfWPbwvG9yEBAFLgg7EAgBQIJABACgQSACAFAgkAkAKB\nBABIgUACAKRAIAEAUiCQAAApEEgAgBT+A84T+FhBFj6IAAAAAElFTkSuQmCC\n",
      "text/plain": [
       "<matplotlib.figure.Figure at 0x10a31c7d0>"
      ]
     },
     "metadata": {},
     "output_type": "display_data"
    }
   ],
   "source": [
    "Figure1()"
   ]
  },
  {
   "cell_type": "markdown",
   "metadata": {},
   "source": [
    "<b><a name=\"fig-1\"/>[Figure 1](#fig-1).</b> Floating-point number line. Each tick represents a consecutive floating-point number. Each line, a, b, c, d and e, represent floating-point numbers at increasing exponents. Because the difference between floating-point numbers in different exponent ranges increases, so does the rounding error of a real value falling between floating-point numbers as the distance from zero increases. "
   ]
  },
  {
   "cell_type": "markdown",
   "metadata": {},
   "source": [
    "### Set of Floating-Point Numbers\n",
    "In this presentation it is assumed the arithmetic computations adhere to the IEEE 754 standard for binary floating-point numbers  \n",
    "\n",
    "<a name=\"ref-5\"/>[(Higham, 2013)](#cite-Higham:2013:1)\n",
    "\n",
    "<a name=\"eq-1\" />[](#eq-1) $$ f := \\mathsf{fl}(x)=x(1+\\delta_1) \\tag{1} $$\n",
    "\n",
    "The definition given in [Equation 1](#eq-1) says the rounding error of any floating-point operation will be no greater then the unit round-off, [defined below](#Machine-Epsilon), times the true value, that is, for most real numbers the rounding transform yields only an estimate of true value.\n",
    "\n",
    "In this presentation it is assumed the arithmetic computations adhere to the IEEE 754 standard for binary floating-point numbers [IEEE], and that neither underflow or overflow, as defined by the standard, occur. The set of floating point numbers denoted by $\\mathbb{F}$ is a finite subset of the real numbers, $\\mathbb{F}=\\{f:=\\mathsf{fl}(x) \\mid x \\in \\mathbb{R} \\wedge f \\subset \\mathbb{R} \\wedge \\mathbb{F}_{min} \\leq x \\geq \\mathbb{F}_{max}\\}$, from the result of a floating-point arithmetic operation, $\\mathsf{fl}(x)$, where operations inside the parentheses are performed at a given working precision, $P$, and $\\{ \\delta_v \\mid \\lvert \\delta_v \\rvert \\leq \\varepsilon \\wedge \\varepsilon = {2^{1-P} \\over {2}} \\}$. If $x$ is the true value, $\\mathsf{fl}(x)$ is a transform from the real value $x$ to the nearest floating-point number to $x$ (in the default rounding mode), $x \\rightarrow \\mathsf{fl}(x)$. Floating-poinit operations defined by the IEEE 754 binary floating point standard satisfy [Higham]\n",
    "\n",
    "$$f := \\mathsf{fl}(x)=x(1+\\delta_1) \\tag{1}$$\n",
    "\n",
    "The definition, given in Equation 1, says the rounding error of any floating-point operation will be no greater then the unit round-off, defined below, times the true value, that is, for most real numbers the rounding transform yields only an estimate of true value."
   ]
  },
  {
   "cell_type": "markdown",
   "metadata": {},
   "source": [
    "### Machine Epsilon\n",
    "\n",
    "The most common number format used for scientific computing is the binary floating-point standard as defined by the IEEE 754 floating-point definition. As presented by <a name=\"ref-6\"/>[(Kahan, 2008)](#cite-Kahan:2008:1), machine epsilon, $eps$, is $2^{(1-P)}$ where $P$ is the number of bits of precision of the binary floating-point number format used for floating-point arithmetic. $P=24$ for single-precision floating-point numbers and $P=53$ for double-precision floating-point numbers <a name=\"ref-7\"/>[(Wikipedia, 2015a)](#cite-wiki:IEEE_floating_point:1).  The value $eps$ is the value, such that when added to one, the result of the addition equals the next representable floating-point number greater than one for the given machine precision.\n",
    "\n",
    "When the rounding mode is round-to-nearest, the default for IEEE 754 binary floating-point numbers, the unit round-off threshold, $\\varepsilon$, for individual arithmetic operations is the value $2^{(1-P)} \\over 2$, such that any number less than or equal to $\\varepsilon$ when added to one will equal one when performed using floating-point arithmetic.  For double-precision floating-point numbers ${\\varepsilon = {2^{-52} \\over {2}}} \\approx 1.11\\times10^{-16}$.  The value $\\varepsilon$ is also the upper bound on the relative error for the operation, such that $\\left\\lvert {{fl(x) -x} \\over x} \\right\\rvert \\leq {\\varepsilon}$ <a name=\"ref-8\"/>[(Wikipedia, 2015b)](#cite-wiki:IEEE_floating_point:2).\n",
    "\n",
    "Further, in the default round-to-nearest mode, the tiebreaker for values that fall exactly halfway between two floating-point numbers is round-to-even.  In the binary floating-point number format, a zero in the last place or least significant bit of the number is even, a one is odd."
   ]
  },
  {
   "cell_type": "markdown",
   "metadata": {},
   "source": [
    "### Floating-Point Rounding Properties Experiment\n",
    "\n",
    "Following is a demonstration of the properties of floating-point rounding when the rounding mode is the default round-to-nearest with round-to-even tiebreaker."
   ]
  },
  {
   "cell_type": "code",
   "execution_count": 3,
   "metadata": {},
   "outputs": [
    {
     "name": "stdout",
     "output_type": "stream",
     "text": [
      "Python's native floating-point number type: double\n",
      "The bits of precision for doubles: 53\n",
      "The machine precision: 2.22044604925e-16\n",
      "The unit round-off: 1.11022302463e-16\n"
     ]
    }
   ],
   "source": [
    "P = 53 # the bits of precision for doubles, Python's native floating-point number type\n",
    "print \"Python's native floating-point number type:\", \"double\"\n",
    "#print \"The bits of precision for doubles, Pythons native floating-point number type:\", P\n",
    "print \"The bits of precision for doubles:\", P\n",
    "#print P\n",
    "meps = 2.0**(1-P) # the machine precision\n",
    "print \"The machine precision:\", meps\n",
    "#print meps\n",
    "eps = meps/2.0 # the unit round-off\n",
    "print \"The unit round-off:\", eps\n",
    "#print eps"
   ]
  },
  {
   "cell_type": "markdown",
   "metadata": {},
   "source": [
    "* Add the unit round-off to one. Does it equal one?"
   ]
  },
  {
   "cell_type": "code",
   "execution_count": 4,
   "metadata": {},
   "outputs": [
    {
     "name": "stdout",
     "output_type": "stream",
     "text": [
      "True\n"
     ]
    }
   ],
   "source": [
    "print 1.0 + eps == 1.0 # does it equal 1.0?"
   ]
  },
  {
   "cell_type": "markdown",
   "metadata": {},
   "source": [
    ">Because this value is exactly halfway between one and the next representable number greater than one, we round down to one with round-to-nearest, the default mode for IEEE 754 floating-point numbers. In this mode, a tie is broken by round-to-even, which means we round down to one because one is even.  In binary, one has zero digit in the least significant bit, which is binary even.  Whereas, the next representable floating-point number greater than one has one in the least significant bit, so is binary odd <a name=\"ref-9\"/>[(Greaves, 2011)](#cite-Greaves:2011:1)."
   ]
  },
  {
   "cell_type": "markdown",
   "metadata": {},
   "source": [
    "* Add the machine precision to one. Does it equal one?"
   ]
  },
  {
   "cell_type": "code",
   "execution_count": 5,
   "metadata": {},
   "outputs": [
    {
     "name": "stdout",
     "output_type": "stream",
     "text": [
      "False\n"
     ]
    }
   ],
   "source": [
    "print 1.0 + meps == 1.0  # does it now equal 1.0?"
   ]
  },
  {
   "cell_type": "markdown",
   "metadata": {},
   "source": [
    "> Because we are exactly equal to the next floating-point number greater than one."
   ]
  },
  {
   "cell_type": "markdown",
   "metadata": {},
   "source": [
    "* Add the unit round-off plus half unit round-off to one. Does it equal one?"
   ]
  },
  {
   "cell_type": "code",
   "execution_count": 6,
   "metadata": {},
   "outputs": [
    {
     "name": "stdout",
     "output_type": "stream",
     "text": [
      "False\n"
     ]
    }
   ],
   "source": [
    "print 1.0 + (eps + eps/2) == 1.0 # does it equal 1.0?"
   ]
  },
  {
   "cell_type": "markdown",
   "metadata": {},
   "source": [
    "> Because we rounded-to-nearest and thus up to the next floating-point number greater than one."
   ]
  },
  {
   "cell_type": "markdown",
   "metadata": {},
   "source": [
    "* Add the unit round-off and half unit round-off to one. Does it equal the machine precision added to one?"
   ]
  },
  {
   "cell_type": "code",
   "execution_count": 7,
   "metadata": {},
   "outputs": [
    {
     "name": "stdout",
     "output_type": "stream",
     "text": [
      "True\n"
     ]
    }
   ],
   "source": [
    "print 1.0 + (eps + eps/2) == 1.0 + meps"
   ]
  },
  {
   "cell_type": "markdown",
   "metadata": {},
   "source": [
    "> As we would expect, because we rounded the first expression up to next floating-point number greater than 1.0."
   ]
  },
  {
   "cell_type": "markdown",
   "metadata": {},
   "source": [
    "* Now add the unit round-off then the unit round-off again to one, without parentheses. Does it equal one?"
   ]
  },
  {
   "cell_type": "code",
   "execution_count": 8,
   "metadata": {},
   "outputs": [
    {
     "name": "stdout",
     "output_type": "stream",
     "text": [
      "True\n"
     ]
    }
   ],
   "source": [
    "print 1.0 + eps + eps == 1.0"
   ]
  },
  {
   "cell_type": "markdown",
   "metadata": {},
   "source": [
    "> This is odd!"
   ]
  },
  {
   "cell_type": "markdown",
   "metadata": {},
   "source": [
    "* Does not two times the unit round-off added to one equal the machine precision added to one?"
   ]
  },
  {
   "cell_type": "code",
   "execution_count": 9,
   "metadata": {},
   "outputs": [
    {
     "name": "stdout",
     "output_type": "stream",
     "text": [
      "True\n"
     ]
    }
   ],
   "source": [
    "print 1.0 + 2 * eps == 1.0 + meps"
   ]
  },
  {
   "cell_type": "markdown",
   "metadata": {},
   "source": [
    "* But, does not the unit round-off plus the unit round-off equal two times the unit round-off?"
   ]
  },
  {
   "cell_type": "code",
   "execution_count": 10,
   "metadata": {},
   "outputs": [
    {
     "name": "stdout",
     "output_type": "stream",
     "text": [
      "True\n"
     ]
    }
   ],
   "source": [
    "print eps + eps == 2 * eps"
   ]
  },
  {
   "cell_type": "markdown",
   "metadata": {},
   "source": [
    "* And, what about the unit round-off plus the unit round-off being equal to the machine precision?"
   ]
  },
  {
   "cell_type": "code",
   "execution_count": 11,
   "metadata": {},
   "outputs": [
    {
     "name": "stdout",
     "output_type": "stream",
     "text": [
      "True\n"
     ]
    }
   ],
   "source": [
    "print eps + eps == meps"
   ]
  },
  {
   "cell_type": "markdown",
   "metadata": {},
   "source": [
    "> This shows that order of operations matter, and that floating-point arithmetic operations are not associative!"
   ]
  },
  {
   "cell_type": "markdown",
   "metadata": {},
   "source": [
    "* Now try adding the unit round-off and the unit round-off in parentheses to one. Does it equal one?"
   ]
  },
  {
   "cell_type": "code",
   "execution_count": 12,
   "metadata": {},
   "outputs": [
    {
     "name": "stdout",
     "output_type": "stream",
     "text": [
      "False\n"
     ]
    }
   ],
   "source": [
    "print 1.0 + (eps + eps) == 1.0"
   ]
  },
  {
   "cell_type": "markdown",
   "metadata": {},
   "source": [
    ">As now we would expect, because the parenthetical summation is evaluated first to the machine precision, so when added to one it equals the next representable floating-point number greater than one.\n",
    "\n",
    "Without the parentheses the order of operations is, the unit round-off is first added to one and then gets evaluated to one, rounded down, so adding the second unit round-off again also just evaluates one.  This experiment demonstrates that floating-point operations are not associative and that floating-point numbers may only be estimetes of the calcuated value."
   ]
  },
  {
   "cell_type": "markdown",
   "metadata": {},
   "source": [
    "### Geometric Redundancy\n",
    "\n",
    "Bilinear forms may be so affected by error in the data, and round-off error and cancellation that near singularities and when approaching degenerate positions, the expected geometric redundancy in the correlated operations is compromised to such an extent that the results are no longer valid for the given accuracy of the data <a name=\"ref-10\"/>[(Kahan, 2008)](#cite-Kahan:2008:1). Given two vectors in 3D space, $\\mathbf{u}$ and  $\\mathbf{v}$, and the scalar values, $\\rho$ and $\\sigma$, the linear combination of the scaled vectors is $\\rho\\mathbf{u}-\\sigma\\mathbf{v} = \\mathbf{r}$, such that $\\mathbf{u}$, $\\mathbf{v}$ and $\\mathbf{r}$ will, by construction, all lie in a common plane $\\Pi$, that common plane defined by a pair of any two of these three vectors, as long as the vector pair is neither parallel or anti-parallel to each other, the degenerate and singular cases we consider here. The dot or scalar product of two vectors equals zero, $\\mathbf{u} \\bullet \\mathbf{w}$ = 0, only when these two vectors are orthogonal to each other. Finally, the cross product of the pair vectors, $\\mathbf{u}$ and  $\\mathbf{v}$, is the vector, $\\mathbf{w}$, perpendicular to the plane spanned by the vectors, $\\Pi$, and is also orthogonal to each vector of the pair, $\\mathbf{u}\\times \\mathbf{v} = \\mathbf{w}$.  The three previous forms are so related such that <a name=\"ref-11\"/>[(Coxeter, 1989)](#cite-Coxeter:1989:1),\n",
    "\n",
    "<a name=\"eq-2\"/>[](#eq-2) $$(\\rho\\mathbf{u}-\\sigma\\mathbf{v}) \\bullet (\\mathbf{u}\\times \\mathbf{v}) = \\mathbf{r} \\times \\mathbf{w} = 0. \\tag{2}$$\n",
    "\n",
    "Assuming arithmetic calculated using infinite precision, this correlation says that for all values greater than zero, $\\rho, \\mathbf{u}, \\sigma, \\mathbf{v}$, for any and all pairs of vectors in the plane spanned by a pair, the cross product of those vectors is a vector orthogonal to the pair and perpendicular to the plane defined by them.  On the other hand, when these forms are calculated with floating-point arithmetic, this redundancy will not always hold and degrade as the pair of vectors approach parallel or anti-parallel <a name=\"ref-12\"/>[(Kahan, 2008)](#cite-Kahan:2008:1)."
   ]
  },
  {
   "cell_type": "markdown",
   "metadata": {
    "collapsed": true
   },
   "source": [
    "### Cross Product Quality\n",
    "\n",
    "Kahan <a name=\"ref-13\"/>[(Kahan, 2008)](#cite-Kahan:2008:1) presents an inequality that can be used to determine how far from the true direction a cross-product vector may be when calculated using floating-point arithmetic, and thus the voracity of [Equation 2](#eq-2).\n",
    "\n",
    "<a name=\"eq-3\" />[](#eq-3) $$\\lvert \\sin(\\angle(\\mathbf{w},\\mathbf{u}\\times \\mathbf{v}) ) \\rvert \\leq \\varepsilon + \\left({2 \\over \\sqrt{3}}\\right) \\cdot \\varepsilon \\cdot \\left\\lvert {1 \\over \\sin(\\angle(\\mathbf{u}, \\mathbf{v}))}\\right\\rvert \\tag{3}$$\n",
    "\n",
    "The inequality above says, when the angle between two vectors approaches zero or $\\pi$, the difference between what would be the true direction of the vector, $\\mathbf{w}$, calculated from the cross product of the vector pair, if calculated with infinite precision, to that calculated with floating-point arithmetic, the direction of $\\mathbf{u}\\times \\mathbf{v}$, differs more as these limits are approached, [Figure 2](#fig-2)."
   ]
  },
  {
   "cell_type": "code",
   "execution_count": 13,
   "metadata": {},
   "outputs": [
    {
     "data": {
      "image/png": "iVBORw0KGgoAAAANSUhEUgAAAZEAAAEgCAYAAAB1t06HAAAABHNCSVQICAgIfAhkiAAAAAlwSFlz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\n/Q9kTgHxp9z0ZAAAAABJRU5ErkJggg==\n",
      "text/plain": [
       "<matplotlib.figure.Figure at 0x110881b90>"
      ]
     },
     "metadata": {},
     "output_type": "display_data"
    }
   ],
   "source": [
    "Figure2()"
   ]
  },
  {
   "cell_type": "markdown",
   "metadata": {},
   "source": [
    "<b><a name=\"fig-2\"/>[Figure 2](#fig-2).</b> Cross product quality degrades approaching zero and $\\pi$.  The distance between the true direction of the the cross product vector and that of the floating-point cross product vector, here measured by the sine, increases as the limits are approached."
   ]
  },
  {
   "cell_type": "markdown",
   "metadata": {},
   "source": [
    "### Near Anti-Parallel\n",
    "\n",
    "When two vectors are added that are moving closer to anti-parallel and the resulting cross-product vector approaches zero length in the limit, <a name=\"ref-14\"/>[(Regan, 2015)](#cite-Regan:2015:1) and <a name=\"ref-15\"/>[(Higham, 2013)](#cite-Higham:2013:1), the cross-product vector of the two vectors, as described above, so bilinearly correlated to the addition vector, may not be so when evaluated using floating-point arithmetic. So, a threshold of near anti-parallel is set that past which the vectors are deemed anti-parallel.  From the [floating-point rounding properties experiment](#Floating-Point-Rounding-Properties-Experiment), we see that an expression that adds a value to one evaluates to one when that value added to one is less than or equal to the unit roundoff threshold, that is, the result of the summation is equal to one within machine precision. The hypothesis is that two unit-length vectors, $\\mathbf{\\hat{u}}$ and $\\mathbf{\\hat{v}}$, are anti-parallel if the length squared of the sum of the vectors, when added to one, using floating-point arithmetic, equals one, $1.0 + \\lVert \\mathbf{\\hat{u}}+\\mathbf{\\hat{v}} \\rVert^{2} = 1.0$. Given $\\mathbf{\\hat{u}} = {\\mathbf{u} \\over \\lVert\\mathbf{u}\\rVert}$ and $\\mathbf{\\hat{v}} = {\\mathbf{v} \\over \\lVert\\mathbf{v}\\rVert}$, suppose $\\lVert \\mathbf{\\hat{u}}+\\mathbf{\\hat{v}} \\rVert^{2} = \\varepsilon$, the length squared of the vector $(\\mathbf{\\hat{u}}+\\mathbf{\\hat{v}})$ is equal to $\\varepsilon$.\n",
    "\n",
    "Referring to the cross product quality inequality, [Equation 3](#eq-3), when the length squared of the vector sum is at the unit roundoff upper bound, how far off from the true cross product direction is the cross-product vector calculated with floating-point arithmetic? If the difference is much smaller relative to that which the error in our data deserves, we can be sure that the anti-parallel threshold is reasonable.  First calculate the angle between the two unit length vectors, $\\alpha = \\angle(\\mathbf{\\hat{u}}, \\mathbf{\\hat{v}}))$, where the length squared of the sum of the vectors is equal to the unit round-off, [Figure 3](#fig-3).\n",
    "\n",
    "<a name=\"eq-4\" />[](#eq-4) <a name=\"eq-5\" />[](#eq-5) $$ \\begin{align}\n",
    "\\varepsilon &= \\lVert \\mathbf{\\hat{u}}+\\mathbf{\\hat{v}} \\rVert^{2} &\\text{Stipulate} \\tag{4}\\\\\n",
    "\\sqrt{\\varepsilon} &= \\lVert \\mathbf{\\hat{u}}+\\mathbf{\\hat{v}} \\rVert \\\\\n",
    "\\\\\n",
    "\\lVert \\mathbf{\\hat{u}}+\\mathbf{\\hat{v}} \\rVert &= 2 \\cdot\\sin(\\theta) &\\text{From trigonometry} \\\\\n",
    "\\sqrt{\\varepsilon} &= 2 \\cdot\\sin(\\theta) \\\\\n",
    "{\\sqrt{\\varepsilon} \\over {2}} &= \\sin(\\theta) \\\\\n",
    "{\\sin^{-1}\\left({\\sqrt{\\varepsilon} \\over {2}}\\right)} &= \\theta \\\\\n",
    "\\\\\n",
    "\\alpha &= \\pi - 2 \\cdot \\theta &\\text{From geometry} \\\\\n",
    "\\alpha &= \\pi - 2 \\cdot {\\sin^{-1}\\left({\\sqrt{\\varepsilon} \\over {2}}\\right)} \\tag{5}\n",
    "\\end{align} $$ "
   ]
  },
  {
   "cell_type": "markdown",
   "metadata": {},
   "source": [
    "<img src=\"img/How Close to Parallel.png\">"
   ]
  },
  {
   "cell_type": "markdown",
   "metadata": {},
   "source": [
    "<b><a name=\"fig-3\" /a>[Figure 3](#fig-3).</b> Vector sum and its relation to $\\alpha$."
   ]
  },
  {
   "cell_type": "markdown",
   "metadata": {
    "collapsed": true
   },
   "source": [
    "Plugging $\\alpha$, the angle between the unit vectors, from [Equation 5](#eq-5) into [Equation 3](#eq-3), we can calculate how far off the cross-product vector is from true at the point where the length squared of the sum of the vectors is equal to $\\varepsilon$, the unit round-off threshold, [Equation 4](#eq-4):"
   ]
  },
  {
   "cell_type": "code",
   "execution_count": 14,
   "metadata": {},
   "outputs": [
    {
     "name": "stdout",
     "output_type": "stream",
     "text": [
      "alpha = 3.14159264305 radians\n",
      "delta = 1.05367119474e-08 radians\n",
      "error = 1.21667473445e-08 radians\n",
      "error = 6.9710327324e-07 degrees\n"
     ]
    }
   ],
   "source": [
    "alpha = np.pi - 2 * np.arcsin(np.sqrt(eps)/2)\n",
    "print 'alpha =', alpha, \"radians\"\n",
    "print 'delta =', np.pi - alpha, \"radians\"\n",
    "error = eps + (2.0/np.sqrt(3.0)) * eps * abs(1.0/np.sin(alpha))\n",
    "print 'error =', error, \"radians\" # the cross-product vector error\n",
    "print 'error =', math.degrees(error), \"degrees\""
   ]
  },
  {
   "cell_type": "markdown",
   "metadata": {
    "collapsed": true
   },
   "source": [
    "The evaluation above shows when at the threshold, the cross-product vector error is relatively small, and the angle $\\alpha$ sufficiently close to $\\pi$ that,\n",
    "\n",
    "<a name=\"eq-6\"/>[](#eq-6)$$1.0 + \\lVert \\mathbf{\\hat{u}}+\\mathbf{\\hat{v}} \\rVert^{2} = 1.0, \\tag{6}$$\n",
    "\n",
    "is a reasonable test for the vectors being classed anti-parallel when evaluated using floating-point arithmetic, <a name=\"ref-16\"/>[(Kahan, 2014)](#cite-Kahan:2014:2)."
   ]
  },
  {
   "cell_type": "markdown",
   "metadata": {},
   "source": [
    "# References\n",
    "\n",
    "<a name=\"cite-wiki:IEEE_floating_point:1\"/><sup>[^](#ref-1) [^](#ref-7) </sup>Wikipedia, 1. 2015a. _IEEE floating point --- Wikipedia, The Free Encyclopedia_. [URL](https://en.wikipedia.org/w/index.php?title=IEEE_floating_point&oldid=696581271)\n",
    "\n",
    "<a name=\"cite-Sun:2001:1\"/><sup>[^](#ref-2) </sup>Sun Microsystems,. 2001. _Numerical Computation Guide_. [URL](https://docs.oracle.com/cd/E19059-01/fortec6u2/806-7996/806-7996.pdf)\n",
    "\n",
    "<a name=\"cite-Regan:2015:1\"/><sup>[^](#ref-3) [^](#ref-14) </sup>Regan, Rick. 2015. _The Spacing of Binary Floating-Point Numbers_. [URL](http://www.exploringbinary.com/the-spacing-of-binary-floating-point-numbers/)\n",
    "\n",
    "<a name=\"cite-Higham:2002:ASN:579525\"/><sup>[^](#ref-4) </sup>Higham, Nicholas J.. 2002. _Accuracy and Stability of Numerical Algorithms_.\n",
    "\n",
    "<a name=\"cite-Higham:2013:1\"/><sup>[^](#ref-5) [^](#ref-15) </sup>Higham, Nick. 2013. _Accuracy and Stability of Numerical Algorithms_. [URL](http://www.maths.manchester.ac.uk/~higham/talks/asna13_cardiff.pdf)\n",
    "\n",
    "<a name=\"cite-Kahan:2008:1\"/><sup>[^](#ref-6) [^](#ref-10) [^](#ref-12) [^](#ref-13) </sup>Kahan, William. 2008. _Cross-Products and Rotations in 2- and 3-Dimensional Euclidean Spaces_. [URL](https://www.cs.berkeley.edu/~wkahan/MathH110/Cross.pdf)\n",
    "\n",
    "<a name=\"cite-wiki:IEEE_floating_point:2\"/><sup>[^](#ref-8) </sup>Wikipedia, 2. 2015b. _Floating Point --- Wikipedia, The Free Encyclopedia_. [URL](https://en.wikipedia.org/wiki/Floating_point)\n",
    "\n",
    "<a name=\"cite-Greaves:2011:1\"/><sup>[^](#ref-9) </sup>Greaves, D. J.. 2011. _Floating Point Computation_. [URL](https://www.cl.cam.ac.uk/teaching/1011/FPComp/fpcomp10slides.pdf)\n",
    "\n",
    "<a name=\"cite-Coxeter:1989:1\"/><sup>[^](#ref-11) </sup>Coxeter, H. S. M.. 1989. _Introduction to geometry_.\n",
    "\n",
    "<a name=\"cite-Kahan:2014:2\"/><sup>[^](#ref-16) </sup>Kahan, Willam. 2014. _Personal Communication_.\n",
    "\n"
   ]
  },
  {
   "cell_type": "code",
   "execution_count": null,
   "metadata": {
    "collapsed": true
   },
   "outputs": [],
   "source": []
  }
 ],
 "metadata": {
  "kernelspec": {
   "display_name": "Python [default]",
   "language": "python",
   "name": "python2"
  },
  "language_info": {
   "codemirror_mode": {
    "name": "ipython",
    "version": 2
   },
   "file_extension": ".py",
   "mimetype": "text/x-python",
   "name": "python",
   "nbconvert_exporter": "python",
   "pygments_lexer": "ipython2",
   "version": "2.7.13"
  }
 },
 "nbformat": 4,
 "nbformat_minor": 1
}
